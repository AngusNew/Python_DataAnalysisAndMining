{
 "cells": [
  {
   "cell_type": "markdown",
   "metadata": {},
   "source": [
    "航空公司客户价值分析\n",
    "    目标：企业针对不同价值的客户制定个性化的服务，将有限的资源集中于高价值客户。\n",
    "    1、借助航空公司的数据进行客户分类\n",
    "    2、比较不同类客户的价值并制定销策略\n",
    "    \n",
    "识别客户价值的最广泛的模型是通过RFM模型来识别出高价值的客户：\n",
    "    Recency： 最近消费时间间隔\n",
    "    Frequency： 消费频率\n",
    "    Monetary： 消费金额\n",
    "问题：同样的消费金额的不同旅客对航空公司的价值不同，例如买长航线、低等仓的旅客和买短航线、高等仓的旅客消费金额相同\n",
    "但是价值确实不同的。显然后者更有价值。因此这个指标可能不合适，故选择客户在一定时间内的飞行里程M和乘坐舱位所对应的折扣洗漱C。\n",
    "\n",
    "航空公司客户价值分析模型：\n",
    "    L：会员入会时间距观测窗口结束的时间\n",
    "    R：客户最近一次乘坐公司分级距观测窗口结束的时间（月数）\n",
    "    F：客户在观测窗口内乘坐公司飞机的次数\n",
    "    M：客户在观测窗口内累计的飞行里程\n",
    "    C：客户在观测窗口内乘坐舱位所对应的折扣系数的平均值\n",
    "模型概述：\n",
    "    通过使用k-means聚类算法没使用LRFMC模型进行测试\n",
    "    对模型进行分析，分析客户的价值\n"
   ]
  },
  {
   "cell_type": "code",
   "execution_count": 1,
   "metadata": {
    "collapsed": true
   },
   "outputs": [],
   "source": [
    "import pandas as pd"
   ]
  },
  {
   "cell_type": "code",
   "execution_count": 8,
   "metadata": {
    "collapsed": false
   },
   "outputs": [
    {
     "name": "stderr",
     "output_type": "stream",
     "text": [
      "/home/xiaoran/anaconda3/lib/python3.5/site-packages/numpy/lib/function_base.py:3834: RuntimeWarning: Invalid value encountered in percentile\n",
      "  RuntimeWarning)\n"
     ]
    }
   ],
   "source": [
    "datafile = 'data/air_data.csv'\n",
    "resultfile = 'data/tmp.xls' \n",
    "data = pd.read_csv(datafile, encoding='utf-8')\n",
    "\n",
    "explore = data.describe().T \n",
    "explore['null'] = len(data) - explore['count'] #计算空值\n",
    "\n",
    "\n",
    "explore = explore[['null', 'max', 'min']]  #得到每一列的空值，最大值，最小值\n",
    "\n",
    "\n",
    "explore.to_excel(resultfile) # 是结果写入文件\n"
   ]
  },
  {
   "cell_type": "markdown",
   "metadata": {},
   "source": [
    "根据上面的数据统计，丢弃所有不符合的数据，\n",
    "    1、票价为空的\n",
    "    2、票价为0，但是折扣不是0，而且飞行里程大于0，\n",
    "    这样的数据是错误数据，直接删除。"
   ]
  },
  {
   "cell_type": "code",
   "execution_count": 27,
   "metadata": {
    "collapsed": true
   },
   "outputs": [
    {
     "name": "stdout",
     "output_type": "stream",
     "text": [
      "62297\n",
      "Index(['MEMBER_NO', 'FFP_DATE', 'FIRST_FLIGHT_DATE', 'GENDER', 'FFP_TIER',\n",
      "       'WORK_CITY', 'WORK_PROVINCE', 'WORK_COUNTRY', 'AGE', 'LOAD_TIME',\n",
      "       'FLIGHT_COUNT', 'BP_SUM', 'EP_SUM_YR_1', 'EP_SUM_YR_2', 'SUM_YR_1',\n",
      "       'SUM_YR_2', 'SEG_KM_SUM', 'WEIGHTED_SEG_KM', 'LAST_FLIGHT_DATE',\n",
      "       'AVG_FLIGHT_COUNT', 'AVG_BP_SUM', 'BEGIN_TO_FIRST', 'LAST_TO_END',\n",
      "       'AVG_INTERVAL', 'MAX_INTERVAL', 'ADD_POINTS_SUM_YR_1',\n",
      "       'ADD_POINTS_SUM_YR_2', 'EXCHANGE_COUNT', 'avg_discount',\n",
      "       'P1Y_Flight_Count', 'L1Y_Flight_Count', 'P1Y_BP_SUM', 'L1Y_BP_SUM',\n",
      "       'EP_SUM', 'ADD_Point_SUM', 'Eli_Add_Point_Sum', 'L1Y_ELi_Add_Points',\n",
      "       'Points_Sum', 'L1Y_Points_Sum', 'Ration_L1Y_Flight_Count',\n",
      "       'Ration_P1Y_Flight_Count', 'Ration_P1Y_BPS', 'Ration_L1Y_BPS',\n",
      "       'Point_NotFlight'],\n",
      "      dtype='object')\n"
     ]
    }
   ],
   "source": [
    "data = pd.read_csv(datafile, encoding='utf-8')\n",
    "\n",
    "cleanedfile = 'data/cleanfile.csv' #存清理后的数据\n",
    "\n",
    "# 去掉票价是空的元素\n",
    "data = data[data['SUM_YR_1'].notnull()]\n",
    "data = data[data['SUM_YR_2'].notnull()]\n",
    "\n",
    "\n",
    "# 去掉票价为0，但是折扣不是0，而且飞行里程大于0\n",
    "data = data.drop(data['SUM_YR_1'] ==0 & (data['SEG_KM_SUM'] != 0) | (data['avg_discount'] > 0))\n",
    "\n",
    "print(len(data))\n",
    "\n",
    "# print(data.columns)\n",
    "\n",
    "# 属性规约：去掉不相管的属性，只留下与LRFMC模型相关的属性\n",
    "# FFP_DATE 入会时间\n",
    "# LOAD_TIME 观测窗口结束时间\n",
    "# FLIGHT_COUNT 飞行频率\n",
    "# avg_discount 平均折扣\n",
    "# SEG_KM_SUM 观测窗口总飞行公里数\n",
    "# LAST_TO_END 最后一次乘机时间至观察窗口末端时长\n",
    "\n",
    "data = data[['FFP_DATE','LOAD_TIME', 'FLIGHT_COUNT', 'avg_discount', 'SEG_KM_SUM','LAST_TO_END']]\n",
    "\n",
    "\n",
    "data.to_csv(cleanedfile) #写入文件"
   ]
  },
  {
   "cell_type": "markdown",
   "metadata": {},
   "source": [
    "数据变化的LRFMC数据：\n",
    "    L = LOAD_TIME - FFP_DATE （观测窗口时间 - 入会时间）\n",
    "    R = LOAD_TIME - LAST_TO_END （观测窗口时间 - 最后一次乘机时间）\n",
    "    F = FLIGHT_COUNT \n",
    "    M = SEG_KM_SUM\n",
    "    C = avg_discount\n"
   ]
  },
  {
   "cell_type": "code",
   "execution_count": 88,
   "metadata": {
    "collapsed": false
   },
   "outputs": [],
   "source": [
    "from datetime import datetime\n",
    "import time\n",
    "\n",
    "def normal_time(date):\n",
    "    '''\n",
    "    格式化数据\n",
    "    '''\n",
    "    return datetime.strptime(date,\"%Y/%m/%d\")\n",
    "\n",
    "def interval_time(dd):\n",
    "    '''\n",
    "    计算时间间隔，以月为单位\n",
    "    '''\n",
    "    return dd.days / 30"
   ]
  },
  {
   "cell_type": "code",
   "execution_count": 105,
   "metadata": {
    "collapsed": false
   },
   "outputs": [],
   "source": [
    "# data_LRFMC数据\n",
    "data_LRFMC = pd.DataFrame()\n",
    "# data_LRFMC.columns = ['L', 'R', 'F','M', 'C']\n",
    "data_LRFMC['L'] = (data['LOAD_TIME'].apply(normal_time) - data['FFP_DATE'].apply(normal_time)).apply(interval_time)\n",
    "data_LRFMC['R'] = data['LAST_TO_END']\n",
    "data_LRFMC['F'] = data['FLIGHT_COUNT']\n",
    "data_LRFMC['M'] = data['SEG_KM_SUM']\n",
    "data_LRFMC['C'] = data['avg_discount']\n",
    "\n",
    "# 显示数据的描述，最大值和最小值\n",
    "data_LRFMC_describe = data_LRFMC.describe().T\n",
    "data_LRFMC_describe = data_LRFMC_describe[['max','min']].T\n",
    "\n",
    "data_LRFMC.to_csv('data/LRFMC.csv') #数据写入文件"
   ]
  },
  {
   "cell_type": "markdown",
   "metadata": {},
   "source": [
    "注意到所有的数据值，最大值和最小值间隔较大，需要对数据进行标准化\n",
    "    这里使用标注差标准化,可以使用认识方法进行处理"
   ]
  },
  {
   "cell_type": "code",
   "execution_count": 114,
   "metadata": {
    "collapsed": false
   },
   "outputs": [],
   "source": [
    "# 标准化、重命名、写入文件\n",
    "data_normal = (data_LRFMC - data_LRFMC.mean()) / (data_LRFMC.std())\n",
    "data_normal.columns = ['Z'+i for i in data_normal.columns]\n",
    "data_normal.to_csv('data/data_normal')\n"
   ]
  },
  {
   "cell_type": "markdown",
   "metadata": {},
   "source": [
    "数据处理完毕，下面进行模型的构建，\n",
    "    1、使用聚类算法，将数据生成5类用户\n",
    "    2、针对聚类结果进行特征分析"
   ]
  },
  {
   "cell_type": "code",
   "execution_count": 117,
   "metadata": {
    "collapsed": false
   },
   "outputs": [
    {
     "name": "stdout",
     "output_type": "stream",
     "text": [
      "[[ 1.16443082 -0.3775831  -0.08518766 -0.09323092 -0.15906231]\n",
      " [-0.70014625 -0.41584827 -0.15935193 -0.15955595 -0.26734394]\n",
      " [ 0.01594116  0.00784598 -0.24843215 -0.25750534  2.08918975]\n",
      " [ 0.48503896 -0.80134848  2.48281809  2.43536635  0.31393202]\n",
      " [-0.31252471  1.68746582 -0.57426021 -0.53886494 -0.18594193]]\n",
      "[3 3 3 ..., 1 0 4]\n"
     ]
    }
   ],
   "source": [
    "from sklearn.cluster import KMeans\n",
    "k = 5\n",
    "kmodel = KMeans(k) #得到模型\n",
    "kmodel.fit(data_normal) #训练模型\n",
    "\n",
    "# 查看聚类中心和对应的类别\n",
    "print(kmodel.cluster_centers_)\n",
    "print(kmodel.labels_)\n"
   ]
  },
  {
   "cell_type": "code",
   "execution_count": 130,
   "metadata": {
    "collapsed": false,
    "scrolled": true
   },
   "outputs": [
    {
     "data": {
      "image/png": "[encoded data removed]",
      "text/plain": [
       "<matplotlib.figure.Figure at 0x7fc243cbce80>"
      ]
     },
     "metadata": {},
     "output_type": "display_data"
    }
   ],
   "source": [
    "import matplotlib.pyplot as plt\n",
    "\n",
    "clu = kmodel.cluster_centers_\n",
    "x = [1,2,3,4,5]\n",
    "\n",
    "colors = ['red','green','yellow','blue','black']\n",
    "for i in range(5):\n",
    "    plt.plot(x,clu[i],label='clustre '+str(i),linewidth=6-i,color=colors[i],marker='o') \n",
    "\n",
    "plt.xlabel('L  R  F  M  C')\n",
    "plt.ylabel('values')\n",
    "plt.show()\n"
   ]
  },
  {
   "cell_type": "markdown",
   "metadata": {},
   "source": [
    "客户价值分析：\n",
    "注意kmeans每次运行的时候得到的类会有差别，簇号也会相应的改变，但是中间点基本不会改变：\n",
    "              L           R           F           M           C\n",
    "客户群1：[ 1.16443082 -0.3775831  -0.08518766 -0.09323092 -0.15906231] red\n",
    "客户群2：[-0.70014625 -0.41584827 -0.15935193 -0.15955595 -0.26734394] green\n",
    "客户群3：[ 0.01594116  0.00784598 -0.24843215 -0.25750534  2.08918975] yellow\n",
    "客户群4：[ 0.48503896 -0.80134848  2.48281809  2.43536635  0.31393202] blue\n",
    "客户群5：[-0.31252471  1.68746582 -0.57426021 -0.53886494 -0.18594193] black\n",
    "\n",
    "我们重点关注的是L，F，M，从图中可以看到：\n",
    "1、客户群4[blue] 的F,M很高，L也不低，可以看做是重要保持的客户；\n",
    "2、客户群3[yellow] 重要发展客户\n",
    "3、客户群1[red] 重要挽留客户，原因：入会时间长，但是F,M较低\n",
    "4、客户群2[green] 一般客户\n",
    "5、客户群5[black] 低价值客户\n",
    "\n",
    "\n"
   ]
  },
  {
   "cell_type": "code",
   "execution_count": null,
   "metadata": {
    "collapsed": true
   },
   "outputs": [],
   "source": []
  }
 ],
 "metadata": {
  "anaconda-cloud": {},
  "kernelspec": {
   "display_name": "Python [conda root]",
   "language": "python",
   "name": "conda-root-py"
  },
  "language_info": {
   "codemirror_mode": {
    "name": "ipython",
    "version": 3
   },
   "file_extension": ".py",
   "mimetype": "text/x-python",
   "name": "python",
   "nbconvert_exporter": "python",
   "pygments_lexer": "ipython3",
   "version": "3.5.2"
  }
 },
 "nbformat": 4,
 "nbformat_minor": 1
}
